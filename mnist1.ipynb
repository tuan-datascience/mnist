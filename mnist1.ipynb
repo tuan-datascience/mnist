{
 "cells": [
  {
   "cell_type": "code",
   "execution_count": 2,
   "metadata": {},
   "outputs": [
    {
     "name": "stderr",
     "output_type": "stream",
     "text": [
      "WARNING: Logging before flag parsing goes to stderr.\n",
      "W0930 12:30:00.083473 140364208678720 deprecation.py:323] From <ipython-input-2-79bd43e7c0dc>:43: read_data_sets (from tensorflow.contrib.learn.python.learn.datasets.mnist) is deprecated and will be removed in a future version.\n",
      "Instructions for updating:\n",
      "Please use alternatives such as official/mnist/dataset.py from tensorflow/models.\n",
      "W0930 12:30:00.084308 140364208678720 deprecation.py:323] From /home/tuanna/anaconda3/lib/python3.7/site-packages/tensorflow/contrib/learn/python/learn/datasets/mnist.py:260: maybe_download (from tensorflow.contrib.learn.python.learn.datasets.base) is deprecated and will be removed in a future version.\n",
      "Instructions for updating:\n",
      "Please write your own downloading logic.\n",
      "W0930 12:30:00.085484 140364208678720 deprecation.py:323] From /home/tuanna/anaconda3/lib/python3.7/site-packages/tensorflow/contrib/learn/python/learn/datasets/base.py:252: _internal_retry.<locals>.wrap.<locals>.wrapped_fn (from tensorflow.contrib.learn.python.learn.datasets.base) is deprecated and will be removed in a future version.\n",
      "Instructions for updating:\n",
      "Please use urllib or similar directly.\n",
      "W0930 12:30:06.549803 140364208678720 deprecation.py:323] From /home/tuanna/anaconda3/lib/python3.7/site-packages/tensorflow/contrib/learn/python/learn/datasets/mnist.py:262: extract_images (from tensorflow.contrib.learn.python.learn.datasets.mnist) is deprecated and will be removed in a future version.\n",
      "Instructions for updating:\n",
      "Please use tf.data to implement this functionality.\n"
     ]
    },
    {
     "name": "stdout",
     "output_type": "stream",
     "text": [
      "Successfully downloaded train-images-idx3-ubyte.gz 9912422 bytes.\n",
      "Extracting /tmp/data/train-images-idx3-ubyte.gz\n"
     ]
    },
    {
     "name": "stderr",
     "output_type": "stream",
     "text": [
      "W0930 12:30:07.040595 140364208678720 deprecation.py:323] From /home/tuanna/anaconda3/lib/python3.7/site-packages/tensorflow/contrib/learn/python/learn/datasets/mnist.py:267: extract_labels (from tensorflow.contrib.learn.python.learn.datasets.mnist) is deprecated and will be removed in a future version.\n",
      "Instructions for updating:\n",
      "Please use tf.data to implement this functionality.\n"
     ]
    },
    {
     "name": "stdout",
     "output_type": "stream",
     "text": [
      "Successfully downloaded train-labels-idx1-ubyte.gz 28881 bytes.\n",
      "Extracting /tmp/data/train-labels-idx1-ubyte.gz\n",
      "Successfully downloaded t10k-images-idx3-ubyte.gz 1648877 bytes.\n",
      "Extracting /tmp/data/t10k-images-idx3-ubyte.gz\n"
     ]
    },
    {
     "name": "stderr",
     "output_type": "stream",
     "text": [
      "W0930 12:30:08.355308 140364208678720 deprecation.py:323] From /home/tuanna/anaconda3/lib/python3.7/site-packages/tensorflow/contrib/learn/python/learn/datasets/mnist.py:290: DataSet.__init__ (from tensorflow.contrib.learn.python.learn.datasets.mnist) is deprecated and will be removed in a future version.\n",
      "Instructions for updating:\n",
      "Please use alternatives such as official/mnist/dataset.py from tensorflow/models.\n"
     ]
    },
    {
     "name": "stdout",
     "output_type": "stream",
     "text": [
      "Successfully downloaded t10k-labels-idx1-ubyte.gz 4542 bytes.\n",
      "Extracting /tmp/data/t10k-labels-idx1-ubyte.gz\n",
      "0 Train acc:  0.88 Test acc:  0.8966\n",
      "1 Train acc:  0.94 Test acc:  0.9169\n",
      "2 Train acc:  0.96 Test acc:  0.9239\n",
      "3 Train acc:  0.94 Test acc:  0.9328\n",
      "4 Train acc:  0.96 Test acc:  0.9395\n",
      "5 Train acc:  0.96 Test acc:  0.9448\n",
      "6 Train acc:  0.96 Test acc:  0.9472\n",
      "7 Train acc:  0.96 Test acc:  0.9506\n",
      "8 Train acc:  0.94 Test acc:  0.9541\n",
      "9 Train acc:  0.98 Test acc:  0.956\n",
      "10 Train acc:  0.94 Test acc:  0.9586\n",
      "11 Train acc:  1.0 Test acc:  0.9615\n",
      "12 Train acc:  0.98 Test acc:  0.9624\n",
      "13 Train acc:  1.0 Test acc:  0.9639\n",
      "14 Train acc:  0.96 Test acc:  0.9652\n",
      "15 Train acc:  1.0 Test acc:  0.9663\n",
      "16 Train acc:  0.96 Test acc:  0.9673\n",
      "17 Train acc:  0.98 Test acc:  0.967\n",
      "18 Train acc:  0.98 Test acc:  0.9693\n",
      "19 Train acc:  0.98 Test acc:  0.969\n",
      "20 Train acc:  1.0 Test acc:  0.9699\n",
      "21 Train acc:  0.98 Test acc:  0.971\n",
      "22 Train acc:  1.0 Test acc:  0.9717\n",
      "23 Train acc:  1.0 Test acc:  0.9721\n",
      "24 Train acc:  1.0 Test acc:  0.9725\n",
      "25 Train acc:  1.0 Test acc:  0.9721\n",
      "26 Train acc:  0.98 Test acc:  0.9725\n",
      "27 Train acc:  1.0 Test acc:  0.9735\n",
      "28 Train acc:  0.98 Test acc:  0.9734\n",
      "29 Train acc:  1.0 Test acc:  0.9744\n",
      "30 Train acc:  0.98 Test acc:  0.9753\n",
      "31 Train acc:  1.0 Test acc:  0.9756\n",
      "32 Train acc:  0.94 Test acc:  0.9749\n",
      "33 Train acc:  0.98 Test acc:  0.9762\n",
      "34 Train acc:  1.0 Test acc:  0.9753\n",
      "35 Train acc:  0.98 Test acc:  0.9756\n",
      "36 Train acc:  0.98 Test acc:  0.9762\n",
      "37 Train acc:  1.0 Test acc:  0.9756\n",
      "38 Train acc:  1.0 Test acc:  0.9766\n",
      "39 Train acc:  0.98 Test acc:  0.9767\n",
      "40 Train acc:  1.0 Test acc:  0.9774\n",
      "41 Train acc:  0.96 Test acc:  0.9761\n",
      "42 Train acc:  1.0 Test acc:  0.9775\n",
      "43 Train acc:  0.98 Test acc:  0.9763\n",
      "44 Train acc:  1.0 Test acc:  0.9771\n",
      "45 Train acc:  1.0 Test acc:  0.9774\n",
      "46 Train acc:  1.0 Test acc:  0.9776\n",
      "47 Train acc:  1.0 Test acc:  0.9779\n",
      "48 Train acc:  1.0 Test acc:  0.9783\n",
      "49 Train acc:  1.0 Test acc:  0.9772\n",
      "50 Train acc:  0.98 Test acc:  0.9783\n",
      "51 Train acc:  0.98 Test acc:  0.978\n",
      "52 Train acc:  1.0 Test acc:  0.9782\n",
      "53 Train acc:  1.0 Test acc:  0.9773\n",
      "54 Train acc:  0.98 Test acc:  0.979\n",
      "55 Train acc:  1.0 Test acc:  0.9787\n",
      "56 Train acc:  1.0 Test acc:  0.9792\n",
      "57 Train acc:  1.0 Test acc:  0.9787\n",
      "58 Train acc:  1.0 Test acc:  0.9783\n",
      "59 Train acc:  1.0 Test acc:  0.9787\n",
      "60 Train acc:  1.0 Test acc:  0.9786\n",
      "61 Train acc:  1.0 Test acc:  0.9795\n",
      "62 Train acc:  1.0 Test acc:  0.9785\n",
      "63 Train acc:  1.0 Test acc:  0.9788\n",
      "64 Train acc:  1.0 Test acc:  0.9782\n",
      "65 Train acc:  1.0 Test acc:  0.9788\n",
      "66 Train acc:  1.0 Test acc:  0.9795\n",
      "67 Train acc:  1.0 Test acc:  0.9788\n",
      "68 Train acc:  1.0 Test acc:  0.9792\n",
      "69 Train acc:  1.0 Test acc:  0.9794\n",
      "70 Train acc:  1.0 Test acc:  0.9799\n",
      "71 Train acc:  1.0 Test acc:  0.9798\n",
      "72 Train acc:  1.0 Test acc:  0.9787\n",
      "73 Train acc:  1.0 Test acc:  0.9794\n",
      "74 Train acc:  1.0 Test acc:  0.98\n",
      "75 Train acc:  1.0 Test acc:  0.9794\n",
      "76 Train acc:  1.0 Test acc:  0.9789\n",
      "77 Train acc:  1.0 Test acc:  0.9789\n",
      "78 Train acc:  1.0 Test acc:  0.9794\n",
      "79 Train acc:  1.0 Test acc:  0.9798\n",
      "80 Train acc:  1.0 Test acc:  0.9793\n",
      "81 Train acc:  1.0 Test acc:  0.9799\n",
      "82 Train acc:  1.0 Test acc:  0.9801\n",
      "83 Train acc:  1.0 Test acc:  0.9794\n",
      "84 Train acc:  1.0 Test acc:  0.9796\n",
      "85 Train acc:  1.0 Test acc:  0.9795\n",
      "86 Train acc:  1.0 Test acc:  0.9788\n",
      "87 Train acc:  1.0 Test acc:  0.9799\n",
      "88 Train acc:  1.0 Test acc:  0.9795\n",
      "89 Train acc:  1.0 Test acc:  0.9802\n",
      "90 Train acc:  1.0 Test acc:  0.98\n",
      "91 Train acc:  1.0 Test acc:  0.9799\n",
      "92 Train acc:  1.0 Test acc:  0.9794\n",
      "93 Train acc:  1.0 Test acc:  0.9797\n",
      "94 Train acc:  1.0 Test acc:  0.9795\n",
      "95 Train acc:  1.0 Test acc:  0.9801\n",
      "96 Train acc:  1.0 Test acc:  0.9797\n",
      "97 Train acc:  1.0 Test acc:  0.9801\n",
      "98 Train acc:  1.0 Test acc:  0.9797\n",
      "99 Train acc:  1.0 Test acc:  0.9793\n"
     ]
    }
   ],
   "source": [
    "import os\n",
    "os.environ[\"CUDA_VISIBLE_DEVICES\"]=\"-1\" \n",
    "import tensorflow as tf\n",
    "from tensorflow.contrib.layers import fully_connected\n",
    "\n",
    "#Construct Phase\n",
    "n_inputs=28*28 #MNIST\n",
    "n_hidden1=300\n",
    "n_hidden2=100\n",
    "n_outputs=10\n",
    "\n",
    "X=tf.placeholder(dtype=tf.float32,shape=(None,n_inputs),name=\"X\")\n",
    "y=tf.placeholder(dtype=tf.int32,shape=(None),name=\"y\")\n",
    "\n",
    "def neuron_layer(X,n_neurons,name,activation=None):\n",
    "    with tf.name_scope(name):\n",
    "        n_inputs=int(X.get_shape()[1])\n",
    "        init=tf.truncated_normal((n_inputs,n_neurons),stddev=0.5)\n",
    "        W=tf.Variable(init,dtype=tf.float32,name=\"Weight\")\n",
    "        b=tf.Variable(tf.zeros([n_neurons]),name=\"Bias\")\n",
    "        z=tf.matmul(X,W)+b\n",
    "        if activation==\"relu\":\n",
    "            return tf.nn.relu(z)\n",
    "        else:\n",
    "            return z\n",
    "\n",
    "with tf.name_scope(\"DNN\"):\n",
    "    hidden1=fully_connected(X,n_hidden1,scope=\"hidden1\")\n",
    "    hidden2=fully_connected(hidden1,n_hidden2,scope=\"hidden2\")\n",
    "    logits=fully_connected(hidden2,n_outputs,scope=\"outputs\",activation_fn=None)\n",
    "with tf.name_scope(\"Loss\"):\n",
    "    entropy=tf.nn.sparse_softmax_cross_entropy_with_logits(labels=y,logits=logits)\n",
    "    loss=tf.reduce_mean(entropy, name=\"loss\")\n",
    "with tf.name_scope(\"Train\"):\n",
    "    optimizer=tf.train.GradientDescentOptimizer(learning_rate=0.01)\n",
    "    train_op=optimizer.minimize(loss)\n",
    "with tf.name_scope(\"Eval\"):\n",
    "    correct=tf.nn.in_top_k(logits,y,1)\n",
    "    accuracy=tf.reduce_mean(tf.cast(correct,tf.float32))\n",
    "    \n",
    "#Excution Phase\n",
    "from tensorflow.examples.tutorials.mnist import input_data\n",
    "mnist=input_data.read_data_sets(\"/tmp/data/\")\n",
    "n_epochs=100\n",
    "batch_size=50\n",
    "\n",
    "with tf.Session() as sess:\n",
    "    tf.global_variables_initializer().run()\n",
    "    for epoch in range(n_epochs):\n",
    "        for i in range(mnist.train.num_examples//batch_size):\n",
    "            X_batch,y_batch=mnist.train.next_batch(batch_size)\n",
    "            sess.run(train_op,feed_dict={X:X_batch,y:y_batch})\n",
    "        acc_train = accuracy.eval(feed_dict={X:X_batch,y:y_batch})\n",
    "        acc_test = accuracy.eval(feed_dict={X:mnist.test.images,\n",
    "                                           y:mnist.test.labels})\n",
    "        print(epoch,\"Train acc: \", acc_train,\"Test acc: \", acc_test)\n",
    "    saver=tf.train.Saver().save(sess,\"./my_model.ckpt\")\n",
    "    \n"
   ]
  },
  {
   "cell_type": "code",
   "execution_count": 4,
   "metadata": {},
   "outputs": [
    {
     "name": "stdout",
     "output_type": "stream",
     "text": [
      "[7] 7\n"
     ]
    },
    {
     "data": {
      "image/png": "[encoded data removed]",
      "text/plain": [
       "<Figure size 432x288 with 1 Axes>"
      ]
     },
     "metadata": {
      "needs_background": "light"
     },
     "output_type": "display_data"
    }
   ],
   "source": [
    "import tensorflow as tf\n",
    "import skimage\n",
    "import numpy as np\n",
    "img=mnist.test.images[328].reshape(28,28)\n",
    "skimage.io.imshow(img)\n",
    "with tf.Session() as sess:\n",
    "    tf.train.Saver().restore(sess,\"./my_model.ckpt\")\n",
    "    Z=logits.eval(feed_dict={X:mnist.test.images[328].reshape(1,-1)})\n",
    "    y_pred=np.argmax(Z,axis=1)\n",
    "    print(y_pred,mnist.test.labels[328])"
   ]
  }
 ],
 "metadata": {
  "kernelspec": {
   "display_name": "Python 3",
   "language": "python",
   "name": "python3"
  },
  "language_info": {
   "codemirror_mode": {
    "name": "ipython",
    "version": 3
   },
   "file_extension": ".py",
   "mimetype": "text/x-python",
   "name": "python",
   "nbconvert_exporter": "python",
   "pygments_lexer": "ipython3",
   "version": "3.7.3"
  }
 },
 "nbformat": 4,
 "nbformat_minor": 4
}
